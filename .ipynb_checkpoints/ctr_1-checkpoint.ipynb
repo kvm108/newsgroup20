{
 "cells": [
  {
   "cell_type": "code",
   "execution_count": 1,
   "metadata": {},
   "outputs": [
    {
     "name": "stdout",
     "output_type": "stream",
     "text": [
      "Data 10 rows                      id  click      hour    C1  banner_pos   site_id  \\\n",
      "0   1000009418151094273      0  14102100  1005           0  1fbe01fe   \n",
      "1  10000169349117863715      0  14102100  1005           0  1fbe01fe   \n",
      "2  10000371904215119486      0  14102100  1005           0  1fbe01fe   \n",
      "3  10000640724480838376      0  14102100  1005           0  1fbe01fe   \n",
      "4  10000679056417042096      0  14102100  1005           1  fe8cc448   \n",
      "5  10000720757801103869      0  14102100  1005           0  d6137915   \n",
      "6  10000724729988544911      0  14102100  1005           0  8fda644b   \n",
      "7  10000918755742328737      0  14102100  1005           1  e151e245   \n",
      "8  10000949271186029916      1  14102100  1005           0  1fbe01fe   \n",
      "9  10001264480619467364      0  14102100  1002           0  84c7ba46   \n",
      "\n",
      "  site_domain site_category    app_id app_domain ...  device_type  \\\n",
      "0    f3845767      28905ebd  ecad2386   7801e8d9 ...            1   \n",
      "1    f3845767      28905ebd  ecad2386   7801e8d9 ...            1   \n",
      "2    f3845767      28905ebd  ecad2386   7801e8d9 ...            1   \n",
      "3    f3845767      28905ebd  ecad2386   7801e8d9 ...            1   \n",
      "4    9166c161      0569f928  ecad2386   7801e8d9 ...            1   \n",
      "5    bb1ef334      f028772b  ecad2386   7801e8d9 ...            1   \n",
      "6    25d4cfcd      f028772b  ecad2386   7801e8d9 ...            1   \n",
      "7    7e091613      f028772b  ecad2386   7801e8d9 ...            1   \n",
      "8    f3845767      28905ebd  ecad2386   7801e8d9 ...            1   \n",
      "9    c4e18dd6      50e219e0  ecad2386   7801e8d9 ...            0   \n",
      "\n",
      "  device_conn_type    C14  C15  C16   C17  C18  C19     C20  C21  \n",
      "0                2  15706  320   50  1722    0   35      -1   79  \n",
      "1                0  15704  320   50  1722    0   35  100084   79  \n",
      "2                0  15704  320   50  1722    0   35  100084   79  \n",
      "3                0  15706  320   50  1722    0   35  100084   79  \n",
      "4                0  18993  320   50  2161    0   35      -1  157  \n",
      "5                0  16920  320   50  1899    0  431  100077  117  \n",
      "6                0  20362  320   50  2333    0   39      -1  157  \n",
      "7                0  20632  320   50  2374    3   39      -1   23  \n",
      "8                2  15707  320   50  1722    0   35      -1   79  \n",
      "9                0  21689  320   50  2496    3  167  100191   23  \n",
      "\n",
      "[10 rows x 24 columns]\n"
     ]
    }
   ],
   "source": [
    "import pandas as pd\n",
    "\n",
    "data = pd.read_csv(\"train_subset.csv\", encoding=\"UTF-16LE\")\n",
    "print(\"Data 10 rows\", data[:10])\n",
    "\n"
   ]
  },
  {
   "cell_type": "code",
   "execution_count": null,
   "metadata": {},
   "outputs": [],
   "source": []
  }
 ],
 "metadata": {
  "kernelspec": {
   "display_name": "Python 3",
   "language": "python",
   "name": "python3"
  },
  "language_info": {
   "codemirror_mode": {
    "name": "ipython",
    "version": 3
   },
   "file_extension": ".py",
   "mimetype": "text/x-python",
   "name": "python",
   "nbconvert_exporter": "python",
   "pygments_lexer": "ipython3",
   "version": "3.6.4"
  }
 },
 "nbformat": 4,
 "nbformat_minor": 2
}
